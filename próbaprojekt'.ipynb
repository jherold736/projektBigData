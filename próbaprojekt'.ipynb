{
 "cells": [
  {
   "cell_type": "code",
   "execution_count": 5,
   "id": "74c3b8aa-d5ec-4452-aab7-a83ed648e4b0",
   "metadata": {
    "tags": []
   },
   "outputs": [
    {
     "name": "stdout",
     "output_type": "stream",
     "text": [
      "Requirement already satisfied: requests in c:\\users\\jhero\\anaconda3\\lib\\site-packages (2.31.0)\n",
      "Requirement already satisfied: beautifulsoup4 in c:\\users\\jhero\\anaconda3\\lib\\site-packages (4.12.2)\n",
      "Requirement already satisfied: pandas in c:\\users\\jhero\\anaconda3\\lib\\site-packages (2.0.3)\n",
      "Requirement already satisfied: pymongo in c:\\users\\jhero\\anaconda3\\lib\\site-packages (4.11.3)\n",
      "Requirement already satisfied: dnspython in c:\\users\\jhero\\anaconda3\\lib\\site-packages (2.7.0)\n",
      "Requirement already satisfied: charset-normalizer<4,>=2 in c:\\users\\jhero\\anaconda3\\lib\\site-packages (from requests) (2.0.4)\n",
      "Requirement already satisfied: idna<4,>=2.5 in c:\\users\\jhero\\anaconda3\\lib\\site-packages (from requests) (3.4)\n",
      "Requirement already satisfied: urllib3<3,>=1.21.1 in c:\\users\\jhero\\anaconda3\\lib\\site-packages (from requests) (1.26.16)\n",
      "Requirement already satisfied: certifi>=2017.4.17 in c:\\users\\jhero\\anaconda3\\lib\\site-packages (from requests) (2025.1.31)\n",
      "Requirement already satisfied: soupsieve>1.2 in c:\\users\\jhero\\anaconda3\\lib\\site-packages (from beautifulsoup4) (2.4)\n",
      "Requirement already satisfied: python-dateutil>=2.8.2 in c:\\users\\jhero\\anaconda3\\lib\\site-packages (from pandas) (2.8.2)\n",
      "Requirement already satisfied: pytz>=2020.1 in c:\\users\\jhero\\anaconda3\\lib\\site-packages (from pandas) (2023.3.post1)\n",
      "Requirement already satisfied: tzdata>=2022.1 in c:\\users\\jhero\\anaconda3\\lib\\site-packages (from pandas) (2023.3)\n",
      "Requirement already satisfied: numpy>=1.21.0 in c:\\users\\jhero\\anaconda3\\lib\\site-packages (from pandas) (1.24.3)\n",
      "Requirement already satisfied: six>=1.5 in c:\\users\\jhero\\anaconda3\\lib\\site-packages (from python-dateutil>=2.8.2->pandas) (1.16.0)\n"
     ]
    }
   ],
   "source": [
    "!pip install requests beautifulsoup4 pandas pymongo dnspython\n"
   ]
  },
  {
   "cell_type": "code",
   "execution_count": 7,
   "id": "509fa137-bd36-4a1e-92d3-f551073c6666",
   "metadata": {
    "tags": []
   },
   "outputs": [],
   "source": [
    "import requests\n",
    "from bs4 import BeautifulSoup\n",
    "import pandas as pd\n",
    "import pymongo"
   ]
  },
  {
   "cell_type": "code",
   "execution_count": 8,
   "id": "9660abe9-7791-4b89-895b-c52a62d6a58b",
   "metadata": {
    "tags": []
   },
   "outputs": [
    {
     "name": "stdout",
     "output_type": "stream",
     "text": [
      "A Light in the Attic\n",
      "Tipping the Velvet\n",
      "Soumission\n",
      "Sharp Objects\n",
      "Sapiens: A Brief History of Humankind\n",
      "The Requiem Red\n",
      "The Dirty Little Secrets of Getting Your Dream Job\n",
      "The Coming Woman: A Novel Based on the Life of the Infamous Feminist, Victoria Woodhull\n",
      "The Boys in the Boat: Nine Americans and Their Epic Quest for Gold at the 1936 Berlin Olympics\n",
      "The Black Maria\n",
      "Starving Hearts (Triangular Trade Trilogy, #1)\n",
      "Shakespeare's Sonnets\n",
      "Set Me Free\n",
      "Scott Pilgrim's Precious Little Life (Scott Pilgrim #1)\n",
      "Rip it Up and Start Again\n",
      "Our Band Could Be Your Life: Scenes from the American Indie Underground, 1981-1991\n",
      "Olio\n",
      "Mesaerion: The Best Science Fiction Stories 1800-1849\n",
      "Libertarianism for Beginners\n",
      "It's Only the Himalayas\n"
     ]
    }
   ],
   "source": [
    "# 1. Import bibliotek\n",
    "import requests\n",
    "from bs4 import BeautifulSoup\n",
    "\n",
    "# 2. URL strony do scrapowania\n",
    "url = 'https://books.toscrape.com/'\n",
    "\n",
    "# 3. Pobieramy zawartość strony\n",
    "response = requests.get(url)\n",
    "html = response.text  # lub: response.content\n",
    "\n",
    "# 4. Parsujemy HTML z BeautifulSoup\n",
    "soup = BeautifulSoup(html, 'html.parser')\n",
    "\n",
    "# 5. Znajdujemy wszystkie elementy zawierające tytuły książek\n",
    "# Każdy tytuł jest w tagu <h3> zagnieżdżonym w <article class=\"product_pod\">\n",
    "book_elements = soup.find_all('article', class_='product_pod')\n",
    "\n",
    "# 6. Wyciągamy same tytuły\n",
    "titles = []\n",
    "for book in book_elements:\n",
    "    title = book.h3.a['title']  # atrybut title zawiera pełny tytuł\n",
    "    titles.append(title)\n",
    "\n",
    "# 7. Wyświetlamy listę tytułów\n",
    "for t in titles:\n",
    "    print(t)\n"
   ]
  },
  {
   "cell_type": "code",
   "execution_count": 9,
   "id": "9191eb87-b436-456c-bb45-18624be8c6f5",
   "metadata": {
    "tags": []
   },
   "outputs": [
    {
     "name": "stdout",
     "output_type": "stream",
     "text": [
      "Zapisano do pliku book_titles.csv\n"
     ]
    }
   ],
   "source": [
    "import pandas as pd\n",
    "\n",
    "# 1. Tworzymy DataFrame z listy tytułów\n",
    "df = pd.DataFrame({'Title': titles})\n",
    "\n",
    "# 2. Zapisujemy do pliku CSV\n",
    "df.to_csv('book_titles.csv', index=False)\n",
    "\n",
    "# 3. Potwierdzenie\n",
    "print(\"Zapisano do pliku book_titles.csv\")\n",
    "\n"
   ]
  },
  {
   "cell_type": "code",
   "execution_count": 10,
   "id": "83c13f4e-06be-4f60-b123-984256e0ac5f",
   "metadata": {
    "tags": []
   },
   "outputs": [
    {
     "name": "stdout",
     "output_type": "stream",
     "text": [
      "Zapisano dane z cenami i ocenami!\n"
     ]
    },
    {
     "data": {
      "text/html": [
       "<div>\n",
       "<style scoped>\n",
       "    .dataframe tbody tr th:only-of-type {\n",
       "        vertical-align: middle;\n",
       "    }\n",
       "\n",
       "    .dataframe tbody tr th {\n",
       "        vertical-align: top;\n",
       "    }\n",
       "\n",
       "    .dataframe thead th {\n",
       "        text-align: right;\n",
       "    }\n",
       "</style>\n",
       "<table border=\"1\" class=\"dataframe\">\n",
       "  <thead>\n",
       "    <tr style=\"text-align: right;\">\n",
       "      <th></th>\n",
       "      <th>Title</th>\n",
       "      <th>Price</th>\n",
       "      <th>Rating</th>\n",
       "    </tr>\n",
       "  </thead>\n",
       "  <tbody>\n",
       "    <tr>\n",
       "      <th>0</th>\n",
       "      <td>A Light in the Attic</td>\n",
       "      <td>Â£51.77</td>\n",
       "      <td>Three</td>\n",
       "    </tr>\n",
       "    <tr>\n",
       "      <th>1</th>\n",
       "      <td>Tipping the Velvet</td>\n",
       "      <td>Â£53.74</td>\n",
       "      <td>One</td>\n",
       "    </tr>\n",
       "    <tr>\n",
       "      <th>2</th>\n",
       "      <td>Soumission</td>\n",
       "      <td>Â£50.10</td>\n",
       "      <td>One</td>\n",
       "    </tr>\n",
       "    <tr>\n",
       "      <th>3</th>\n",
       "      <td>Sharp Objects</td>\n",
       "      <td>Â£47.82</td>\n",
       "      <td>Four</td>\n",
       "    </tr>\n",
       "    <tr>\n",
       "      <th>4</th>\n",
       "      <td>Sapiens: A Brief History of Humankind</td>\n",
       "      <td>Â£54.23</td>\n",
       "      <td>Five</td>\n",
       "    </tr>\n",
       "  </tbody>\n",
       "</table>\n",
       "</div>"
      ],
      "text/plain": [
       "                                   Title    Price Rating\n",
       "0                   A Light in the Attic  Â£51.77  Three\n",
       "1                     Tipping the Velvet  Â£53.74    One\n",
       "2                             Soumission  Â£50.10    One\n",
       "3                          Sharp Objects  Â£47.82   Four\n",
       "4  Sapiens: A Brief History of Humankind  Â£54.23   Five"
      ]
     },
     "execution_count": 10,
     "metadata": {},
     "output_type": "execute_result"
    }
   ],
   "source": [
    "# 1. Lista do przechowywania wszystkich danych\n",
    "books = []\n",
    "\n",
    "# 2. Przechodzimy po każdym elemencie książki\n",
    "for book in book_elements:\n",
    "    title = book.h3.a['title']\n",
    "    price = book.find('p', class_='price_color').text  # np. '£53.74'\n",
    "\n",
    "    # Ocena jest ukryta jako klasa, np. <p class=\"star-rating Three\">\n",
    "    rating_tag = book.find('p', class_='star-rating')\n",
    "    rating_class = rating_tag['class']  # np. ['star-rating', 'Three']\n",
    "    rating = rating_class[1]  # Drugi element to słowna ocena\n",
    "\n",
    "    # Zapisujemy jako słownik\n",
    "    books.append({\n",
    "        'Title': title,\n",
    "        'Price': price,\n",
    "        'Rating': rating\n",
    "    })\n",
    "\n",
    "# 3. Tworzymy DataFrame i zapisujemy do CSV\n",
    "df = pd.DataFrame(books)\n",
    "df.to_csv('books_with_prices_and_ratings.csv', index=False)\n",
    "\n",
    "# 4. Potwierdzenie\n",
    "print(\"Zapisano dane z cenami i ocenami!\")\n",
    "df.head()  # pokazujemy kilka pierwszych wierszy\n"
   ]
  },
  {
   "cell_type": "code",
   "execution_count": 24,
   "id": "c4c925b0-389a-4c95-9dc7-981d9f3b7ad0",
   "metadata": {
    "tags": []
   },
   "outputs": [
    {
     "name": "stdout",
     "output_type": "stream",
     "text": [
      "Pobieranie: https://books.toscrape.com/catalogue/page-1.html\n",
      "Pobieranie: https://books.toscrape.com/catalogue/page-2.html\n",
      "Pobieranie: https://books.toscrape.com/catalogue/page-3.html\n",
      "Pobieranie: https://books.toscrape.com/catalogue/page-4.html\n",
      "Pobieranie: https://books.toscrape.com/catalogue/page-5.html\n",
      "Pobieranie: https://books.toscrape.com/catalogue/page-6.html\n",
      "Pobieranie: https://books.toscrape.com/catalogue/page-7.html\n",
      "Pobieranie: https://books.toscrape.com/catalogue/page-8.html\n",
      "Pobieranie: https://books.toscrape.com/catalogue/page-9.html\n",
      "Pobieranie: https://books.toscrape.com/catalogue/page-10.html\n",
      "Pobieranie: https://books.toscrape.com/catalogue/page-11.html\n",
      "Pobieranie: https://books.toscrape.com/catalogue/page-12.html\n",
      "Pobieranie: https://books.toscrape.com/catalogue/page-13.html\n",
      "Pobieranie: https://books.toscrape.com/catalogue/page-14.html\n",
      "Pobieranie: https://books.toscrape.com/catalogue/page-15.html\n",
      "Pobieranie: https://books.toscrape.com/catalogue/page-16.html\n",
      "Pobieranie: https://books.toscrape.com/catalogue/page-17.html\n",
      "Pobieranie: https://books.toscrape.com/catalogue/page-18.html\n",
      "Pobieranie: https://books.toscrape.com/catalogue/page-19.html\n",
      "Pobieranie: https://books.toscrape.com/catalogue/page-20.html\n",
      "Pobieranie: https://books.toscrape.com/catalogue/page-21.html\n",
      "Pobieranie: https://books.toscrape.com/catalogue/page-22.html\n",
      "Pobieranie: https://books.toscrape.com/catalogue/page-23.html\n",
      "Pobieranie: https://books.toscrape.com/catalogue/page-24.html\n",
      "Pobieranie: https://books.toscrape.com/catalogue/page-25.html\n",
      "Pobieranie: https://books.toscrape.com/catalogue/page-26.html\n",
      "Pobieranie: https://books.toscrape.com/catalogue/page-27.html\n",
      "Pobieranie: https://books.toscrape.com/catalogue/page-28.html\n",
      "Pobieranie: https://books.toscrape.com/catalogue/page-29.html\n",
      "Pobieranie: https://books.toscrape.com/catalogue/page-30.html\n",
      "Pobieranie: https://books.toscrape.com/catalogue/page-31.html\n",
      "Pobieranie: https://books.toscrape.com/catalogue/page-32.html\n",
      "Pobieranie: https://books.toscrape.com/catalogue/page-33.html\n",
      "Pobieranie: https://books.toscrape.com/catalogue/page-34.html\n",
      "Pobieranie: https://books.toscrape.com/catalogue/page-35.html\n",
      "Pobieranie: https://books.toscrape.com/catalogue/page-36.html\n",
      "Pobieranie: https://books.toscrape.com/catalogue/page-37.html\n",
      "Pobieranie: https://books.toscrape.com/catalogue/page-38.html\n",
      "Pobieranie: https://books.toscrape.com/catalogue/page-39.html\n",
      "Pobieranie: https://books.toscrape.com/catalogue/page-40.html\n",
      "Pobieranie: https://books.toscrape.com/catalogue/page-41.html\n",
      "Pobieranie: https://books.toscrape.com/catalogue/page-42.html\n",
      "Pobieranie: https://books.toscrape.com/catalogue/page-43.html\n",
      "Pobieranie: https://books.toscrape.com/catalogue/page-44.html\n",
      "Pobieranie: https://books.toscrape.com/catalogue/page-45.html\n",
      "Pobieranie: https://books.toscrape.com/catalogue/page-46.html\n",
      "Pobieranie: https://books.toscrape.com/catalogue/page-47.html\n",
      "Pobieranie: https://books.toscrape.com/catalogue/page-48.html\n",
      "Pobieranie: https://books.toscrape.com/catalogue/page-49.html\n",
      "Pobieranie: https://books.toscrape.com/catalogue/page-50.html\n",
      "Zapisano 1000 książek do all_books.csv\n"
     ]
    }
   ],
   "source": [
    "import requests\n",
    "from bs4 import BeautifulSoup\n",
    "import pandas as pd\n",
    "\n",
    "all_books = []\n",
    "\n",
    "# Przechodzimy przez 50 stron (1 do 50)\n",
    "for page in range(1, 51):\n",
    "    url = f'https://books.toscrape.com/catalogue/page-{page}.html'\n",
    "    print(f'Pobieranie: {url}')\n",
    "\n",
    "    response = requests.get(url)\n",
    "    response.encoding = 'utf-8'  # 👈 Dodane\n",
    "    soup = BeautifulSoup(response.text, 'html.parser')\n",
    "\n",
    "    # Znajdź książki na stronie\n",
    "    book_elements = soup.find_all('article', class_='product_pod')\n",
    "\n",
    "    # 👇 Wszystko to musi być W ŚRODKU pętli\n",
    "    for book in book_elements:\n",
    "        title = book.h3.a['title']\n",
    "        price = book.find('p', class_='price_color').text\n",
    "        rating = book.find('p', class_='star-rating')['class'][1]\n",
    "\n",
    "        all_books.append({\n",
    "            'Title': title,\n",
    "            'Price': price,\n",
    "            'Rating': rating\n",
    "        })\n",
    "\n",
    "# Zapisujemy wszystko do CSV\n",
    "df = pd.DataFrame(all_books)\n",
    "df.to_csv('all_books.csv', index=False)\n",
    "\n",
    "print(f'Zapisano {len(df)} książek do all_books.csv')\n"
   ]
  },
  {
   "cell_type": "code",
   "execution_count": 25,
   "id": "23d410b5-1424-4231-8603-a983aa8d2315",
   "metadata": {
    "tags": []
   },
   "outputs": [
    {
     "data": {
      "text/html": [
       "<div>\n",
       "<style scoped>\n",
       "    .dataframe tbody tr th:only-of-type {\n",
       "        vertical-align: middle;\n",
       "    }\n",
       "\n",
       "    .dataframe tbody tr th {\n",
       "        vertical-align: top;\n",
       "    }\n",
       "\n",
       "    .dataframe thead th {\n",
       "        text-align: right;\n",
       "    }\n",
       "</style>\n",
       "<table border=\"1\" class=\"dataframe\">\n",
       "  <thead>\n",
       "    <tr style=\"text-align: right;\">\n",
       "      <th></th>\n",
       "      <th>Title</th>\n",
       "      <th>Price</th>\n",
       "      <th>Rating</th>\n",
       "    </tr>\n",
       "  </thead>\n",
       "  <tbody>\n",
       "    <tr>\n",
       "      <th>0</th>\n",
       "      <td>A Light in the Attic</td>\n",
       "      <td>£51.77</td>\n",
       "      <td>Three</td>\n",
       "    </tr>\n",
       "    <tr>\n",
       "      <th>1</th>\n",
       "      <td>Tipping the Velvet</td>\n",
       "      <td>£53.74</td>\n",
       "      <td>One</td>\n",
       "    </tr>\n",
       "    <tr>\n",
       "      <th>2</th>\n",
       "      <td>Soumission</td>\n",
       "      <td>£50.10</td>\n",
       "      <td>One</td>\n",
       "    </tr>\n",
       "    <tr>\n",
       "      <th>3</th>\n",
       "      <td>Sharp Objects</td>\n",
       "      <td>£47.82</td>\n",
       "      <td>Four</td>\n",
       "    </tr>\n",
       "    <tr>\n",
       "      <th>4</th>\n",
       "      <td>Sapiens: A Brief History of Humankind</td>\n",
       "      <td>£54.23</td>\n",
       "      <td>Five</td>\n",
       "    </tr>\n",
       "  </tbody>\n",
       "</table>\n",
       "</div>"
      ],
      "text/plain": [
       "                                   Title   Price Rating\n",
       "0                   A Light in the Attic  £51.77  Three\n",
       "1                     Tipping the Velvet  £53.74    One\n",
       "2                             Soumission  £50.10    One\n",
       "3                          Sharp Objects  £47.82   Four\n",
       "4  Sapiens: A Brief History of Humankind  £54.23   Five"
      ]
     },
     "execution_count": 25,
     "metadata": {},
     "output_type": "execute_result"
    }
   ],
   "source": [
    "import pandas as pd\n",
    "\n",
    "# Wczytujemy plik CSV\n",
    "df = pd.read_csv('all_books.csv')\n",
    "\n",
    "# Podgląd\n",
    "df.head()\n"
   ]
  },
  {
   "cell_type": "code",
   "execution_count": 26,
   "id": "71d81164-fd04-48b4-9c0d-298fad67de2a",
   "metadata": {
    "tags": []
   },
   "outputs": [],
   "source": [
    "# Usuwamy znak funta i zamieniamy na float\n",
    "df['Price'] = df['Price'].str.replace('£', '').astype(float)\n"
   ]
  },
  {
   "cell_type": "code",
   "execution_count": 27,
   "id": "ac02262d-1ef7-499c-b7bf-74c5b0e59bc0",
   "metadata": {
    "tags": []
   },
   "outputs": [
    {
     "data": {
      "text/plain": [
       "0    51.77\n",
       "1    53.74\n",
       "2    50.10\n",
       "3    47.82\n",
       "4    54.23\n",
       "5    22.65\n",
       "6    33.34\n",
       "7    17.93\n",
       "8    22.60\n",
       "9    52.15\n",
       "Name: Price, dtype: float64"
      ]
     },
     "execution_count": 27,
     "metadata": {},
     "output_type": "execute_result"
    }
   ],
   "source": [
    "df['Price'].head(10)\n"
   ]
  },
  {
   "cell_type": "code",
   "execution_count": 28,
   "id": "a2e5b9b8-44f6-4d28-bbc4-8ea265a6c9b4",
   "metadata": {
    "tags": []
   },
   "outputs": [
    {
     "data": {
      "text/html": [
       "<div>\n",
       "<style scoped>\n",
       "    .dataframe tbody tr th:only-of-type {\n",
       "        vertical-align: middle;\n",
       "    }\n",
       "\n",
       "    .dataframe tbody tr th {\n",
       "        vertical-align: top;\n",
       "    }\n",
       "\n",
       "    .dataframe thead th {\n",
       "        text-align: right;\n",
       "    }\n",
       "</style>\n",
       "<table border=\"1\" class=\"dataframe\">\n",
       "  <thead>\n",
       "    <tr style=\"text-align: right;\">\n",
       "      <th></th>\n",
       "      <th>Title</th>\n",
       "      <th>Price</th>\n",
       "      <th>Rating</th>\n",
       "    </tr>\n",
       "  </thead>\n",
       "  <tbody>\n",
       "  </tbody>\n",
       "</table>\n",
       "</div>"
      ],
      "text/plain": [
       "Empty DataFrame\n",
       "Columns: [Title, Price, Rating]\n",
       "Index: []"
      ]
     },
     "execution_count": 28,
     "metadata": {},
     "output_type": "execute_result"
    }
   ],
   "source": [
    "# Szukamy tekstów, które nadal zawierają \"£\"\n",
    "df[df['Price'].astype(str).str.contains('£')]\n"
   ]
  },
  {
   "cell_type": "code",
   "execution_count": 30,
   "id": "4a6c32e4-7a8b-4361-8d40-e2706f0cb2c3",
   "metadata": {
    "tags": []
   },
   "outputs": [
    {
     "name": "stdout",
     "output_type": "stream",
     "text": [
      "📊 Średnia cena książki: 35.07\n",
      "\n",
      "💰 Najdroższa książka:\n",
      "Title     The Perfect Play (Play by Play #1)\n",
      "Price                                  59.99\n",
      "Rating                                 Three\n",
      "Name: 648, dtype: object\n",
      "\n",
      "🪙 Najtańsza książka:\n",
      "Title     An Abundance of Katherines\n",
      "Price                           10.0\n",
      "Rating                          Five\n",
      "Name: 638, dtype: object\n",
      "\n",
      "⭐️ Liczba książek wg ocen:\n",
      "Rating\n",
      "One      226\n",
      "Three    203\n",
      "Five     196\n",
      "Two      196\n",
      "Four     179\n",
      "Name: count, dtype: int64\n",
      "\n",
      "🏆 Przykład najlepiej ocenianej książki (Rating = Five):\n",
      "                                   Title  Price Rating\n",
      "4  Sapiens: A Brief History of Humankind  54.23   Five\n"
     ]
    }
   ],
   "source": [
    "# Średnia cena\n",
    "print(\"📊 Średnia cena książki:\", round(df['Price'].mean(), 2))\n",
    "\n",
    "# Najdroższa książka\n",
    "print(\"\\n💰 Najdroższa książka:\")\n",
    "print(df.loc[df['Price'].idxmax()])\n",
    "\n",
    "# Najtańsza książka\n",
    "print(\"\\n🪙 Najtańsza książka:\")\n",
    "print(df.loc[df['Price'].idxmin()])\n",
    "\n",
    "# Liczba książek według oceny\n",
    "print(\"\\n⭐️ Liczba książek wg ocen:\")\n",
    "print(df['Rating'].value_counts())\n",
    "\n",
    "# Najlepiej oceniana książka (Rating = 'Five')\n",
    "print(\"\\n🏆 Przykład najlepiej ocenianej książki (Rating = Five):\")\n",
    "print(df[df['Rating'] == 'Five'].head(1))  # możesz dać .sample(1) dla losowej\n",
    "\n",
    "# Najsłabiej oceniana książka (Rating = 'One')\n",
    "\n"
   ]
  },
  {
   "cell_type": "code",
   "execution_count": 31,
   "id": "1ba61c0d-ce0f-45bd-b720-3815fc7bc945",
   "metadata": {
    "tags": []
   },
   "outputs": [
    {
     "name": "stdout",
     "output_type": "stream",
     "text": [
      "📈 Średnia cena książki w zależności od oceny:\n",
      "Rating\n",
      "Five     35.374490\n",
      "Four     36.093296\n",
      "One      34.561195\n",
      "Three    34.692020\n",
      "Two      34.810918\n",
      "Name: Price, dtype: float64\n"
     ]
    }
   ],
   "source": [
    "print(\"📈 Średnia cena książki w zależności od oceny:\")\n",
    "print(df.groupby('Rating')['Price'].mean().sort_index())\n"
   ]
  },
  {
   "cell_type": "code",
   "execution_count": 32,
   "id": "8123106c-3d24-4312-8e46-0dec96ba4dc1",
   "metadata": {
    "tags": []
   },
   "outputs": [
    {
     "name": "stdout",
     "output_type": "stream",
     "text": [
      "💸 Liczba książek droższych niż £50: 198\n"
     ]
    }
   ],
   "source": [
    "expensive_books = df[df['Price'] > 50]\n",
    "print(f\"💸 Liczba książek droższych niż £50: {len(expensive_books)}\")\n"
   ]
  },
  {
   "cell_type": "code",
   "execution_count": 33,
   "id": "5a7b7914-ae3c-4441-b6f7-ed46ad4113d9",
   "metadata": {
    "tags": []
   },
   "outputs": [
    {
     "name": "stdout",
     "output_type": "stream",
     "text": [
      "🔥 Top 5 najdroższych książek:\n",
      "                                  Title  Price Rating\n",
      "648  The Perfect Play (Play by Play #1)  59.99  Three\n",
      "617   Last One Home (New Beginnings #1)  59.98  Three\n",
      "860    Civilization and Its Discontents  59.95    Two\n",
      "560      The Barefoot Contessa Cookbook  59.92   Five\n",
      "366           The Diary of a Young Girl  59.90  Three\n"
     ]
    }
   ],
   "source": [
    "print(\"🔥 Top 5 najdroższych książek:\")\n",
    "print(df.sort_values(by='Price', ascending=False).head(5))\n"
   ]
  },
  {
   "cell_type": "code",
   "execution_count": 34,
   "id": "f98cc90d-6a35-4cee-a2df-85b7fe3d2a69",
   "metadata": {
    "tags": []
   },
   "outputs": [
    {
     "name": "stdout",
     "output_type": "stream",
     "text": [
      "📊 Udział procentowy książek według ocen:\n",
      "Rating\n",
      "One      22.6\n",
      "Three    20.3\n",
      "Five     19.6\n",
      "Two      19.6\n",
      "Four     17.9\n",
      "Name: proportion, dtype: float64\n"
     ]
    }
   ],
   "source": [
    "print(\"📊 Udział procentowy książek według ocen:\")\n",
    "print(df['Rating'].value_counts(normalize=True) * 100)\n"
   ]
  },
  {
   "cell_type": "code",
   "execution_count": 35,
   "id": "bd2b7d1c-6846-4ade-8718-88aaaa15b59b",
   "metadata": {
    "tags": []
   },
   "outputs": [],
   "source": [
    "# Zamieniamy oceny tekstowe na liczby (np. 'One' => 1 itd.)\n",
    "rating_map = {\n",
    "    'One': 1,\n",
    "    'Two': 2,\n",
    "    'Three': 3,\n",
    "    'Four': 4,\n",
    "    'Five': 5\n",
    "}\n",
    "\n",
    "df['Rating_num'] = df['Rating'].map(rating_map)\n"
   ]
  },
  {
   "cell_type": "code",
   "execution_count": 36,
   "id": "19bebdc3-8ff3-4a97-8f41-22b81e781ae3",
   "metadata": {
    "tags": []
   },
   "outputs": [
    {
     "data": {
      "text/plain": [
       "<Axes: title={'center': 'Cena a ocena książki'}, xlabel='Rating_num', ylabel='Price'>"
      ]
     },
     "execution_count": 36,
     "metadata": {},
     "output_type": "execute_result"
    },
    {
     "data": {
      "image/png": "[encoded data removed]",
      "text/plain": [
       "<Figure size 640x480 with 1 Axes>"
      ]
     },
     "metadata": {},
     "output_type": "display_data"
    }
   ],
   "source": [
    "df.plot.scatter(x='Rating_num', y='Price', title='Cena a ocena książki')\n"
   ]
  },
  {
   "cell_type": "code",
   "execution_count": 37,
   "id": "aae88f6c-69f5-407f-ac42-953ff3a50bc7",
   "metadata": {
    "tags": []
   },
   "outputs": [
    {
     "data": {
      "image/png": "[encoded data removed]",
      "text/plain": [
       "<Figure size 640x480 with 1 Axes>"
      ]
     },
     "metadata": {},
     "output_type": "display_data"
    }
   ],
   "source": [
    "import matplotlib.pyplot as plt\n",
    "\n",
    "df.groupby('Rating_num')['Price'].mean().plot(kind='bar', title='Średnia cena książki w zależności od oceny')\n",
    "plt.xlabel('Ocena (Rating)')\n",
    "plt.ylabel('Średnia cena')\n",
    "plt.show()\n"
   ]
  },
  {
   "cell_type": "code",
   "execution_count": 38,
   "id": "a42753a9-f309-41e9-8995-aad4aedcab85",
   "metadata": {
    "tags": []
   },
   "outputs": [
    {
     "data": {
      "image/png": "[encoded data removed]",
      "text/plain": [
       "<Figure size 800x600 with 1 Axes>"
      ]
     },
     "metadata": {},
     "output_type": "display_data"
    }
   ],
   "source": [
    "import seaborn as sns\n",
    "import matplotlib.pyplot as plt\n",
    "\n",
    "plt.figure(figsize=(8, 6))\n",
    "sns.boxplot(x='Rating_num', y='Price', data=df)\n",
    "\n",
    "plt.title('Rozkład cen książek w zależności od oceny')\n",
    "plt.xlabel('Ocena (Rating)')\n",
    "plt.ylabel('Cena (£)')\n",
    "plt.show()\n"
   ]
  },
  {
   "cell_type": "code",
   "execution_count": 40,
   "id": "8082051a-f3dc-4ba6-818e-c79f7d8e69cc",
   "metadata": {
    "tags": []
   },
   "outputs": [
    {
     "data": {
      "text/html": [
       "<div>\n",
       "<style scoped>\n",
       "    .dataframe tbody tr th:only-of-type {\n",
       "        vertical-align: middle;\n",
       "    }\n",
       "\n",
       "    .dataframe tbody tr th {\n",
       "        vertical-align: top;\n",
       "    }\n",
       "\n",
       "    .dataframe thead th {\n",
       "        text-align: right;\n",
       "    }\n",
       "</style>\n",
       "<table border=\"1\" class=\"dataframe\">\n",
       "  <thead>\n",
       "    <tr style=\"text-align: right;\">\n",
       "      <th></th>\n",
       "      <th>Title</th>\n",
       "      <th>Price</th>\n",
       "      <th>Rating</th>\n",
       "      <th>Rating_num</th>\n",
       "    </tr>\n",
       "  </thead>\n",
       "  <tbody>\n",
       "    <tr>\n",
       "      <th>4</th>\n",
       "      <td>Sapiens: A Brief History of Humankind</td>\n",
       "      <td>54.23</td>\n",
       "      <td>Five</td>\n",
       "      <td>5</td>\n",
       "    </tr>\n",
       "    <tr>\n",
       "      <th>13</th>\n",
       "      <td>Scott Pilgrim's Precious Little Life (Scott Pi...</td>\n",
       "      <td>52.29</td>\n",
       "      <td>Five</td>\n",
       "      <td>5</td>\n",
       "    </tr>\n",
       "    <tr>\n",
       "      <th>28</th>\n",
       "      <td>Worlds Elsewhere: Journeys Around Shakespeare’...</td>\n",
       "      <td>40.30</td>\n",
       "      <td>Five</td>\n",
       "      <td>5</td>\n",
       "    </tr>\n",
       "    <tr>\n",
       "      <th>42</th>\n",
       "      <td>Private Paris (Private #10)</td>\n",
       "      <td>47.61</td>\n",
       "      <td>Five</td>\n",
       "      <td>5</td>\n",
       "    </tr>\n",
       "    <tr>\n",
       "      <th>46</th>\n",
       "      <td>We Love You, Charlie Freeman</td>\n",
       "      <td>50.27</td>\n",
       "      <td>Five</td>\n",
       "      <td>5</td>\n",
       "    </tr>\n",
       "    <tr>\n",
       "      <th>...</th>\n",
       "      <td>...</td>\n",
       "      <td>...</td>\n",
       "      <td>...</td>\n",
       "      <td>...</td>\n",
       "    </tr>\n",
       "    <tr>\n",
       "      <th>915</th>\n",
       "      <td>The Tumor</td>\n",
       "      <td>41.56</td>\n",
       "      <td>Five</td>\n",
       "      <td>5</td>\n",
       "    </tr>\n",
       "    <tr>\n",
       "      <th>954</th>\n",
       "      <td>Rat Queens, Vol. 1: Sass &amp; Sorcery (Rat Queens...</td>\n",
       "      <td>46.96</td>\n",
       "      <td>Five</td>\n",
       "      <td>5</td>\n",
       "    </tr>\n",
       "    <tr>\n",
       "      <th>972</th>\n",
       "      <td>Kitchens of the Great Midwest</td>\n",
       "      <td>57.20</td>\n",
       "      <td>Five</td>\n",
       "      <td>5</td>\n",
       "    </tr>\n",
       "    <tr>\n",
       "      <th>979</th>\n",
       "      <td>Fruits Basket, Vol. 1 (Fruits Basket #1)</td>\n",
       "      <td>40.28</td>\n",
       "      <td>Five</td>\n",
       "      <td>5</td>\n",
       "    </tr>\n",
       "    <tr>\n",
       "      <th>985</th>\n",
       "      <td>Deep Under (Walker Security #1)</td>\n",
       "      <td>47.09</td>\n",
       "      <td>Five</td>\n",
       "      <td>5</td>\n",
       "    </tr>\n",
       "  </tbody>\n",
       "</table>\n",
       "<p>79 rows × 4 columns</p>\n",
       "</div>"
      ],
      "text/plain": [
       "                                                 Title  Price Rating  \\\n",
       "4                Sapiens: A Brief History of Humankind  54.23   Five   \n",
       "13   Scott Pilgrim's Precious Little Life (Scott Pi...  52.29   Five   \n",
       "28   Worlds Elsewhere: Journeys Around Shakespeare’...  40.30   Five   \n",
       "42                         Private Paris (Private #10)  47.61   Five   \n",
       "46                        We Love You, Charlie Freeman  50.27   Five   \n",
       "..                                                 ...    ...    ...   \n",
       "915                                          The Tumor  41.56   Five   \n",
       "954  Rat Queens, Vol. 1: Sass & Sorcery (Rat Queens...  46.96   Five   \n",
       "972                      Kitchens of the Great Midwest  57.20   Five   \n",
       "979           Fruits Basket, Vol. 1 (Fruits Basket #1)  40.28   Five   \n",
       "985                    Deep Under (Walker Security #1)  47.09   Five   \n",
       "\n",
       "     Rating_num  \n",
       "4             5  \n",
       "13            5  \n",
       "28            5  \n",
       "42            5  \n",
       "46            5  \n",
       "..          ...  \n",
       "915           5  \n",
       "954           5  \n",
       "972           5  \n",
       "979           5  \n",
       "985           5  \n",
       "\n",
       "[79 rows x 4 columns]"
      ]
     },
     "execution_count": 40,
     "metadata": {},
     "output_type": "execute_result"
    }
   ],
   "source": [
    "df[(df['Rating'] == 'Five') & (df['Price'] > 40)]\n",
    "\n"
   ]
  },
  {
   "cell_type": "code",
   "execution_count": 41,
   "id": "637d2b48-389b-46ef-81fe-b434a8d587da",
   "metadata": {
    "tags": []
   },
   "outputs": [
    {
     "data": {
      "text/html": [
       "<div>\n",
       "<style scoped>\n",
       "    .dataframe tbody tr th:only-of-type {\n",
       "        vertical-align: middle;\n",
       "    }\n",
       "\n",
       "    .dataframe tbody tr th {\n",
       "        vertical-align: top;\n",
       "    }\n",
       "\n",
       "    .dataframe thead th {\n",
       "        text-align: right;\n",
       "    }\n",
       "</style>\n",
       "<table border=\"1\" class=\"dataframe\">\n",
       "  <thead>\n",
       "    <tr style=\"text-align: right;\">\n",
       "      <th></th>\n",
       "      <th>Title</th>\n",
       "      <th>Price</th>\n",
       "      <th>Rating</th>\n",
       "      <th>Rating_num</th>\n",
       "    </tr>\n",
       "  </thead>\n",
       "  <tbody>\n",
       "    <tr>\n",
       "      <th>7</th>\n",
       "      <td>The Coming Woman: A Novel Based on the Life of...</td>\n",
       "      <td>17.93</td>\n",
       "      <td>Three</td>\n",
       "      <td>3</td>\n",
       "    </tr>\n",
       "    <tr>\n",
       "      <th>10</th>\n",
       "      <td>Starving Hearts (Triangular Trade Trilogy, #1)</td>\n",
       "      <td>13.99</td>\n",
       "      <td>Two</td>\n",
       "      <td>2</td>\n",
       "    </tr>\n",
       "    <tr>\n",
       "      <th>12</th>\n",
       "      <td>Set Me Free</td>\n",
       "      <td>17.46</td>\n",
       "      <td>Five</td>\n",
       "      <td>5</td>\n",
       "    </tr>\n",
       "    <tr>\n",
       "      <th>20</th>\n",
       "      <td>In Her Wake</td>\n",
       "      <td>12.84</td>\n",
       "      <td>One</td>\n",
       "      <td>1</td>\n",
       "    </tr>\n",
       "    <tr>\n",
       "      <th>30</th>\n",
       "      <td>The Four Agreements: A Practical Guide to Pers...</td>\n",
       "      <td>17.66</td>\n",
       "      <td>Five</td>\n",
       "      <td>5</td>\n",
       "    </tr>\n",
       "    <tr>\n",
       "      <th>...</th>\n",
       "      <td>...</td>\n",
       "      <td>...</td>\n",
       "      <td>...</td>\n",
       "      <td>...</td>\n",
       "    </tr>\n",
       "    <tr>\n",
       "      <th>938</th>\n",
       "      <td>The Complete Maus (Maus #1-2)</td>\n",
       "      <td>10.64</td>\n",
       "      <td>Three</td>\n",
       "      <td>3</td>\n",
       "    </tr>\n",
       "    <tr>\n",
       "      <th>939</th>\n",
       "      <td>The Communist Manifesto</td>\n",
       "      <td>14.76</td>\n",
       "      <td>Three</td>\n",
       "      <td>3</td>\n",
       "    </tr>\n",
       "    <tr>\n",
       "      <th>943</th>\n",
       "      <td>Taking Shots (Assassins #1)</td>\n",
       "      <td>18.88</td>\n",
       "      <td>Two</td>\n",
       "      <td>2</td>\n",
       "    </tr>\n",
       "    <tr>\n",
       "      <th>946</th>\n",
       "      <td>Sister Sable (The Mad Queen #1)</td>\n",
       "      <td>13.33</td>\n",
       "      <td>Three</td>\n",
       "      <td>3</td>\n",
       "    </tr>\n",
       "    <tr>\n",
       "      <th>997</th>\n",
       "      <td>A Spy's Devotion (The Regency Spies of London #1)</td>\n",
       "      <td>16.97</td>\n",
       "      <td>Five</td>\n",
       "      <td>5</td>\n",
       "    </tr>\n",
       "  </tbody>\n",
       "</table>\n",
       "<p>196 rows × 4 columns</p>\n",
       "</div>"
      ],
      "text/plain": [
       "                                                 Title  Price Rating  \\\n",
       "7    The Coming Woman: A Novel Based on the Life of...  17.93  Three   \n",
       "10      Starving Hearts (Triangular Trade Trilogy, #1)  13.99    Two   \n",
       "12                                         Set Me Free  17.46   Five   \n",
       "20                                         In Her Wake  12.84    One   \n",
       "30   The Four Agreements: A Practical Guide to Pers...  17.66   Five   \n",
       "..                                                 ...    ...    ...   \n",
       "938                      The Complete Maus (Maus #1-2)  10.64  Three   \n",
       "939                            The Communist Manifesto  14.76  Three   \n",
       "943                        Taking Shots (Assassins #1)  18.88    Two   \n",
       "946                    Sister Sable (The Mad Queen #1)  13.33  Three   \n",
       "997  A Spy's Devotion (The Regency Spies of London #1)  16.97   Five   \n",
       "\n",
       "     Rating_num  \n",
       "7             3  \n",
       "10            2  \n",
       "12            5  \n",
       "20            1  \n",
       "30            5  \n",
       "..          ...  \n",
       "938           3  \n",
       "939           3  \n",
       "943           2  \n",
       "946           3  \n",
       "997           5  \n",
       "\n",
       "[196 rows x 4 columns]"
      ]
     },
     "execution_count": 41,
     "metadata": {},
     "output_type": "execute_result"
    }
   ],
   "source": [
    "df[(df['Price'] >= 10) & (df['Price'] <= 20)]\n"
   ]
  },
  {
   "cell_type": "code",
   "execution_count": 42,
   "id": "ac260fb3-3c78-4544-aa95-fcb65fed469a",
   "metadata": {
    "tags": []
   },
   "outputs": [
    {
     "data": {
      "text/plain": [
       "<Axes: title={'center': 'Histogram cen książek'}, ylabel='Frequency'>"
      ]
     },
     "execution_count": 42,
     "metadata": {},
     "output_type": "execute_result"
    },
    {
     "data": {
      "image/png": "[encoded data removed]",
      "text/plain": [
       "<Figure size 640x480 with 1 Axes>"
      ]
     },
     "metadata": {},
     "output_type": "display_data"
    }
   ],
   "source": [
    "df['Price'].plot.hist(bins=20, title='Histogram cen książek')\n"
   ]
  },
  {
   "cell_type": "code",
   "execution_count": 43,
   "id": "be15aff4-6d2a-4f56-b9f4-59073c19758b",
   "metadata": {
    "tags": []
   },
   "outputs": [
    {
     "data": {
      "image/png": "[encoded data removed]",
      "text/plain": [
       "<Figure size 1000x600 with 1 Axes>"
      ]
     },
     "metadata": {},
     "output_type": "display_data"
    }
   ],
   "source": [
    "import matplotlib.pyplot as plt\n",
    "import numpy as np\n",
    "\n",
    "# 1. Dane do wykresu\n",
    "rating_counts = df['Rating_num'].value_counts().sort_index()\n",
    "rating_avg_price = df.groupby('Rating_num')['Price'].mean()\n",
    "\n",
    "# 2. Przygotuj pozycje słupków\n",
    "x = np.arange(len(rating_counts))  # [0, 1, 2, 3, 4]\n",
    "width = 0.35  # szerokość słupka\n",
    "\n",
    "# 3. Tworzymy wykres\n",
    "fig, ax1 = plt.subplots(figsize=(10, 6))\n",
    "\n",
    "bars1 = ax1.bar(x - width/2, rating_counts, width, label='Liczba książek')\n",
    "bars2 = ax1.bar(x + width/2, rating_avg_price, width, label='Średnia cena')\n",
    "\n",
    "# 4. Dodajemy opisy\n",
    "ax1.set_xlabel('Ocena książki')\n",
    "ax1.set_ylabel('Liczba / Średnia cena')\n",
    "ax1.set_title('Rozkład ocen i średnia cena książki')\n",
    "ax1.set_xticks(x)\n",
    "ax1.set_xticklabels(rating_counts.index)\n",
    "ax1.legend()\n",
    "\n",
    "plt.tight_layout()\n",
    "plt.show()\n"
   ]
  },
  {
   "cell_type": "code",
   "execution_count": null,
   "id": "6c97a31b-eea5-414b-b15c-c197b1b09ef0",
   "metadata": {},
   "outputs": [],
   "source": []
  }
 ],
 "metadata": {
  "kernelspec": {
   "display_name": "Python 3 (ipykernel)",
   "language": "python",
   "name": "python3"
  },
  "language_info": {
   "codemirror_mode": {
    "name": "ipython",
    "version": 3
   },
   "file_extension": ".py",
   "mimetype": "text/x-python",
   "name": "python",
   "nbconvert_exporter": "python",
   "pygments_lexer": "ipython3",
   "version": "3.11.5"
  }
 },
 "nbformat": 4,
 "nbformat_minor": 5
}
